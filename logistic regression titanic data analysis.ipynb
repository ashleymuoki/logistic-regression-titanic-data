{
 "cells": [
  {
   "cell_type": "code",
   "execution_count": null,
   "id": "a4524f19",
   "metadata": {},
   "outputs": [],
   "source": [
    "import pandas as pd\n",
    "import numpy as np\n",
    "import seaborn as sns\n",
    "import matplotlib.plyplot as plt\n",
    "%matplotlib inline\n",
    "import math\n",
    "import os #for importing csv file from any location\n",
    "\n",
    "titanic_data=pd.read_csv(\"/home/ashleymuoki/Downloads/titanic.csv\")\n",
    "titanic_data.head(10)"
   ]
  },
  {
   "cell_type": "code",
   "execution_count": null,
   "id": "13444f1a",
   "metadata": {},
   "outputs": [],
   "source": [
    "#Show the number of passengers \n",
    "print(\"The number of passengers in original data:\" +str(len(titanic_data.index)))\n"
   ]
  },
  {
   "cell_type": "markdown",
   "id": "bb92b006",
   "metadata": {},
   "source": [
    "# Analyze the data "
   ]
  },
  {
   "cell_type": "code",
   "execution_count": null,
   "id": "b09e99e4",
   "metadata": {},
   "outputs": [],
   "source": [
    "sns.countplot(x=\"Survived\", data=titanic_data)"
   ]
  },
  {
   "cell_type": "code",
   "execution_count": null,
   "id": "a5b3ee1b",
   "metadata": {},
   "outputs": [],
   "source": [
    "#Those who survived in terms of gender\n",
    "sns.countplot(x=\"survived\", hue=\"Sue\", data = titanic_data)"
   ]
  },
  {
   "cell_type": "code",
   "execution_count": null,
   "id": "c449609d",
   "metadata": {},
   "outputs": [],
   "source": [
    "#identify the passengers' travelling class\n",
    "sns.countplot(x=\"Survived\", hue=\"Pclass\", data = titanic_data)\n"
   ]
  },
  {
   "cell_type": "code",
   "execution_count": null,
   "id": "3fe9de13",
   "metadata": {},
   "outputs": [],
   "source": [
    "#plot age distribution\n",
    "#bin is to make it more clear and figsize is to set the size of the graph\n",
    "titanic_data[\"Age\"].plot.hist()\n"
   ]
  },
  {
   "cell_type": "code",
   "execution_count": null,
   "id": "2aebd8e6",
   "metadata": {},
   "outputs": [],
   "source": [
    "#plot fare size \n",
    "titanic_data[\"Fare\"].plot.hist(bin = 2= , figsize=(10,5))\n"
   ]
  },
  {
   "cell_type": "code",
   "execution_count": null,
   "id": "4052e7aa",
   "metadata": {},
   "outputs": [],
   "source": [
    "#identify columns in the data set\n",
    "titanic_data.info()"
   ]
  },
  {
   "cell_type": "code",
   "execution_count": null,
   "id": "534ac20c",
   "metadata": {},
   "outputs": [],
   "source": [
    "#plot sibling and spouses \n",
    "sns.countplot(x=\"Sibsp\", data = titanic_data)"
   ]
  },
  {
   "cell_type": "markdown",
   "id": "ecf3321b",
   "metadata": {},
   "source": [
    "# Data wrangling "
   ]
  },
  {
   "cell_type": "code",
   "execution_count": null,
   "id": "85cc37fd",
   "metadata": {},
   "outputs": [],
   "source": [
    "#check for missing data \n",
    "titanic_data.isnull()\n",
    "#false when the value is not null true when the value is null\n",
    "\n",
    "#adding value that are null in each column\n",
    "titanic_data.isnull().sum()"
   ]
  },
  {
   "cell_type": "code",
   "execution_count": null,
   "id": "2a3c87ba",
   "metadata": {},
   "outputs": [],
   "source": [
    "#also identify missing values using heatmaps, cmap is for colourcoating \n",
    "sns.heatmap(titanic_data.isnull(), yticklabels==False, cmap=\"viridis\")\n"
   ]
  },
  {
   "cell_type": "code",
   "execution_count": null,
   "id": "35cf53cb",
   "metadata": {},
   "outputs": [],
   "source": [
    "#to get rid of missing values one can add dummy values or drop the column if there are too many missing values \n",
    "sns.boxplot(x= \"Pclass\", y = \"Age\", data= titanic_data)\n"
   ]
  },
  {
   "cell_type": "code",
   "execution_count": null,
   "id": "4869c354",
   "metadata": {},
   "outputs": [],
   "source": [
    "#print the head of the dataset\n",
    "titanic_data.head(5)\n"
   ]
  },
  {
   "cell_type": "code",
   "execution_count": null,
   "id": "e1cfe5a4",
   "metadata": {},
   "outputs": [],
   "source": [
    "#dropping a column\n",
    "titanic_data.drop(\"Column name\", axis=1, inplace = True)\n"
   ]
  },
  {
   "cell_type": "code",
   "execution_count": null,
   "id": "42341eb2",
   "metadata": {},
   "outputs": [],
   "source": [
    "#check if dropped successfully \n",
    "titanic_data.head(5)"
   ]
  },
  {
   "cell_type": "code",
   "execution_count": null,
   "id": "c07eb3ad",
   "metadata": {},
   "outputs": [],
   "source": [
    "#dropping any empty values\n",
    "titanic_data.dropna(inplace=True)\n"
   ]
  },
  {
   "cell_type": "code",
   "execution_count": null,
   "id": "d539db59",
   "metadata": {},
   "outputs": [],
   "source": [
    "sns.heatmap(titanic_data.isnull(), yticklabels=False, cbar= False)\n"
   ]
  },
  {
   "cell_type": "code",
   "execution_count": null,
   "id": "e18a871c",
   "metadata": {},
   "outputs": [],
   "source": [
    "#to check whether it is clean\n",
    "titanic_data.isnull().sum()"
   ]
  },
  {
   "cell_type": "code",
   "execution_count": null,
   "id": "b546183c",
   "metadata": {},
   "outputs": [],
   "source": [
    "#convert string values to categorical values ie dummy variables  and drop the female column afterwards \n",
    "sex = pd.get_dummies(titanic_data['Sex'], drop_first=True)\n",
    "#display to check if first column dropped \n",
    "sex.head(5)\n"
   ]
  },
  {
   "cell_type": "code",
   "execution_count": null,
   "id": "2e25ad04",
   "metadata": {},
   "outputs": [],
   "source": [
    "#repeat for the other columns \n",
    "embark = pd.get_dummies(titanic_data['Embarked'], drop_first=True)\n",
    "#display to check if first column dropped \n",
    "embark.head(5)"
   ]
  },
  {
   "cell_type": "code",
   "execution_count": null,
   "id": "3d3a02d3",
   "metadata": {},
   "outputs": [],
   "source": [
    "pclass = pd.get_dummies(titanic_data['Pclass'], drop_first=True)\n",
    "#display to check if first column dropped \n",
    "pclass.head(5)\n"
   ]
  },
  {
   "cell_type": "code",
   "execution_count": null,
   "id": "942259ce",
   "metadata": {},
   "outputs": [],
   "source": [
    "#concatenate the columns into a new dataset\n",
    "titanic_data = pd.concat([titanic_data,sex,embark, pclass], axis=1)\n",
    "titanic_data.head(5)"
   ]
  },
  {
   "cell_type": "code",
   "execution_count": null,
   "id": "f430b172",
   "metadata": {},
   "outputs": [],
   "source": [
    "#drop unnnecessary columns\n",
    "titanic_data.drop(['Sex','Embarked','Pclass','Passenger_id', 'Name', 'Ticket', axis= 1 , inplace= True])\n",
    "titanic_data.head(5)\n"
   ]
  },
  {
   "cell_type": "markdown",
   "id": "4e94f0d5",
   "metadata": {},
   "source": [
    "# Train data "
   ]
  },
  {
   "cell_type": "code",
   "execution_count": null,
   "id": "615e14c2",
   "metadata": {},
   "outputs": [],
   "source": [
    "#define the independent variable and dependent variable \n",
    "x = titanic_data.drop(\"Survived\", axis=1)\n",
    "y = titanic_data[\"Survived\"]\n"
   ]
  },
  {
   "cell_type": "code",
   "execution_count": null,
   "id": "bcb2e1d8",
   "metadata": {},
   "outputs": [],
   "source": [
    "#split the data \n",
    "from sklearn.crossvalidation import train_test_split"
   ]
  },
  {
   "cell_type": "code",
   "execution_count": null,
   "id": "14c05d2f",
   "metadata": {},
   "outputs": [],
   "source": [
    "x_train,x_test, y_train, y_test = train_test_split(x, y, test_size= 0.3 , random_state = 1)"
   ]
  },
  {
   "cell_type": "code",
   "execution_count": null,
   "id": "3e425348",
   "metadata": {},
   "outputs": [],
   "source": [
    "#create the model\n",
    "from sklearn.linear_model import LogisticRegression"
   ]
  },
  {
   "cell_type": "code",
   "execution_count": null,
   "id": "4ecaff53",
   "metadata": {},
   "outputs": [],
   "source": [
    "logmodel =  LogsiticRegression()"
   ]
  },
  {
   "cell_type": "code",
   "execution_count": null,
   "id": "f01446fc",
   "metadata": {},
   "outputs": [],
   "source": [
    "#fit data into the model\n",
    "logmodel.fit(x_train ,y_train)\n"
   ]
  },
  {
   "cell_type": "code",
   "execution_count": null,
   "id": "99ea9af7",
   "metadata": {},
   "outputs": [],
   "source": [
    "#make predictions\n",
    "predictions = logmodel.predict(x_test)"
   ]
  },
  {
   "cell_type": "code",
   "execution_count": null,
   "id": "617cfc95",
   "metadata": {},
   "outputs": [],
   "source": [
    "#checkin3accuracy using classification report\n",
    "from sklearn.metrics import classification_report\n"
   ]
  },
  {
   "cell_type": "code",
   "execution_count": null,
   "id": "45036f58",
   "metadata": {},
   "outputs": [],
   "source": [
    "Classification_report(y_test, predictions)"
   ]
  },
  {
   "cell_type": "code",
   "execution_count": null,
   "id": "3ec5bfc8",
   "metadata": {},
   "outputs": [],
   "source": [
    "#calculate accuracy using the confusion matrix \n",
    "from sklearn.metrics import confusion_matrix\n"
   ]
  },
  {
   "cell_type": "code",
   "execution_count": null,
   "id": "84c9fd81",
   "metadata": {},
   "outputs": [],
   "source": [
    "confusion_matrix(y_test, predictions)"
   ]
  },
  {
   "cell_type": "code",
   "execution_count": null,
   "id": "94b0ad37",
   "metadata": {},
   "outputs": [],
   "source": [
    "#calculate accuracy using  accuracy_score\n",
    "from sklearn.metrics import accuracy_score\n",
    "accuracy_score(y_test, predictions)"
   ]
  },
  {
   "cell_type": "markdown",
   "id": "90d5a843",
   "metadata": {},
   "source": [
    "#SUV predictions"
   ]
  },
  {
   "cell_type": "code",
   "execution_count": null,
   "id": "0a9375d2",
   "metadata": {},
   "outputs": [],
   "source": [
    "import numpy as np\n",
    "import matplotlib as plt\n",
    "import pandas as pd\n",
    "%matplotlib inline"
   ]
  },
  {
   "cell_type": "code",
   "execution_count": null,
   "id": "16993784",
   "metadata": {},
   "outputs": [],
   "source": [
    "dataset=pd.read_csv(\"SUV predictions.csv\")\n",
    "#display data\n",
    "dataset.head(10)"
   ]
  },
  {
   "cell_type": "code",
   "execution_count": null,
   "id": "10763bc3",
   "metadata": {},
   "outputs": [],
   "source": [
    "#define independent variable and dependent variable \n",
    "x = dataset.iloc[:, [2,3]].values\n",
    "y= dataset.iloc[:,4].values\n"
   ]
  },
  {
   "cell_type": "code",
   "execution_count": null,
   "id": "de3c16f6",
   "metadata": {},
   "outputs": [],
   "source": [
    "#train data\n",
    "from sklearn.cross_validation import train_test_split\n",
    "x_train, x_test, y_train, y_test = (x, y, test_size = 0.25, random_state=0)\n"
   ]
  },
  {
   "cell_type": "code",
   "execution_count": null,
   "id": "e14ab74c",
   "metadata": {},
   "outputs": [],
   "source": [
    "#Scale input values \n",
    "from sklearn.preprocessing import StandardScaler\n",
    "sc = StandardScaler()\n",
    "x_train = sc.fit_transform(x_train)\n",
    "x_test = sc.transform(x_test)\n"
   ]
  },
  {
   "cell_type": "code",
   "execution_count": null,
   "id": "157d7579",
   "metadata": {},
   "outputs": [],
   "source": [
    "#create the model\n",
    "from sklearn .linear_model import logisticRegression"
   ]
  },
  {
   "cell_type": "code",
   "execution_count": null,
   "id": "dc4c63d1",
   "metadata": {},
   "outputs": [],
   "source": [
    "classifier = LogisticRegression(random_state= 0)\n",
    "#fit data\n",
    "classifier.fit(x_train,y_train)"
   ]
  },
  {
   "cell_type": "code",
   "execution_count": null,
   "id": "d2d33ac9",
   "metadata": {},
   "outputs": [],
   "source": [
    "#make predictions\n",
    "y_pred = classifier.predict(x_test)"
   ]
  },
  {
   "cell_type": "code",
   "execution_count": null,
   "id": "cd60ba76",
   "metadata": {},
   "outputs": [],
   "source": [
    "#check accuracy \n",
    " from slkearn.metrics import accuracy_score\n",
    "    accuracy_score(y_test,y_pred)*100\n",
    "    "
   ]
  }
 ],
 "metadata": {
  "kernelspec": {
   "display_name": "Python 3 (ipykernel)",
   "language": "python",
   "name": "python3"
  },
  "language_info": {
   "codemirror_mode": {
    "name": "ipython",
    "version": 3
   },
   "file_extension": ".py",
   "mimetype": "text/x-python",
   "name": "python",
   "nbconvert_exporter": "python",
   "pygments_lexer": "ipython3",
   "version": "3.11.4"
  }
 },
 "nbformat": 4,
 "nbformat_minor": 5
}
